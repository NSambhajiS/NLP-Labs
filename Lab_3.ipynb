{
  "nbformat": 4,
  "nbformat_minor": 0,
  "metadata": {
    "colab": {
      "provenance": [],
      "authorship_tag": "ABX9TyPbMy5y5G57h/LRCKwn7Nc3",
      "include_colab_link": true
    },
    "kernelspec": {
      "name": "python3",
      "display_name": "Python 3"
    },
    "language_info": {
      "name": "python"
    }
  },
  "cells": [
    {
      "cell_type": "markdown",
      "metadata": {
        "id": "view-in-github",
        "colab_type": "text"
      },
      "source": [
        "<a href=\"https://colab.research.google.com/github/NSambhajiS/NLP-Labs/blob/main/Lab_3.ipynb\" target=\"_parent\"><img src=\"https://colab.research.google.com/assets/colab-badge.svg\" alt=\"Open In Colab\"/></a>"
      ]
    },
    {
      "cell_type": "code",
      "source": [
        "import pandas as pd\n",
        "import numpy as np\n",
        "import re\n",
        "import nltk\n",
        "from nltk.corpus import stopwords\n",
        "from nltk.stem import WordNetLemmatizer\n",
        "from sklearn.preprocessing import LabelEncoder\n",
        "from sklearn.feature_extraction.text import TfidfVectorizer\n",
        "import pickle\n"
      ],
      "metadata": {
        "collapsed": true,
        "id": "vWZ0mcrnR94t"
      },
      "execution_count": 13,
      "outputs": []
    },
    {
      "cell_type": "code",
      "source": [
        "# Download necessary resources\n",
        "nltk.download('stopwords')\n",
        "nltk.download('wordnet')\n",
        "nltk.download('omw-1.4')\n"
      ],
      "metadata": {
        "colab": {
          "base_uri": "https://localhost:8080/"
        },
        "id": "nlJxEHEOSril",
        "outputId": "b8deb15b-77fe-4cae-d992-7e47fafb64c2"
      },
      "execution_count": 14,
      "outputs": [
        {
          "output_type": "stream",
          "name": "stderr",
          "text": [
            "[nltk_data] Downloading package stopwords to /root/nltk_data...\n",
            "[nltk_data]   Package stopwords is already up-to-date!\n",
            "[nltk_data] Downloading package wordnet to /root/nltk_data...\n",
            "[nltk_data]   Package wordnet is already up-to-date!\n",
            "[nltk_data] Downloading package omw-1.4 to /root/nltk_data...\n",
            "[nltk_data]   Package omw-1.4 is already up-to-date!\n"
          ]
        },
        {
          "output_type": "execute_result",
          "data": {
            "text/plain": [
              "True"
            ]
          },
          "metadata": {},
          "execution_count": 14
        }
      ]
    },
    {
      "cell_type": "code",
      "source": [
        "# Sample dataset\n",
        "data = {'text': [\"I love Natural Language Processing!\",\n",
        "                 \"Text preprocessing is an important step in NLP.\",\n",
        "                 \"Machine Learning helps improve NLP models.\",\n",
        "                 \"Data cleaning enhances text analysis.\"],\n",
        "        'label': ['positive', 'neutral', 'positive', 'neutral']}\n",
        "df = pd.DataFrame(data)\n"
      ],
      "metadata": {
        "id": "GjuuRWy6Sq3z"
      },
      "execution_count": 15,
      "outputs": []
    },
    {
      "cell_type": "code",
      "source": [
        "# Text Cleaning\n",
        "def clean_text(text):\n",
        "    text = text.lower()  # Convert to lowercase\n",
        "    text = re.sub(r'[^a-zA-Z\\s]', '', text)  # Remove special characters\n",
        "    return text\n",
        "\n",
        "df['cleaned_text'] = df['text'].apply(clean_text)\n"
      ],
      "metadata": {
        "id": "wtUi8ApwSm8u"
      },
      "execution_count": 16,
      "outputs": []
    },
    {
      "cell_type": "code",
      "source": [
        "# Stopword Removal\n",
        "stop_words = set(stopwords.words('english'))\n",
        "df['text_no_stopwords'] = df['cleaned_text'].apply(lambda x: ' '.join([word for word in x.split() if word not in stop_words]))\n"
      ],
      "metadata": {
        "id": "V_SS7hnqSktw"
      },
      "execution_count": 17,
      "outputs": []
    },
    {
      "cell_type": "code",
      "source": [
        "# Lemmatization\n",
        "lemmatizer = WordNetLemmatizer()\n",
        "df['lemmatized_text'] = df['text_no_stopwords'].apply(lambda x: ' '.join([lemmatizer.lemmatize(word) for word in x.split()]))\n"
      ],
      "metadata": {
        "id": "cRkfbJ7eSivt"
      },
      "execution_count": 18,
      "outputs": []
    },
    {
      "cell_type": "code",
      "source": [
        "# Label Encoding\n",
        "label_encoder = LabelEncoder()\n",
        "df['encoded_label'] = label_encoder.fit_transform(df['label'])\n"
      ],
      "metadata": {
        "id": "5o-PnGblShSc"
      },
      "execution_count": 19,
      "outputs": []
    },
    {
      "cell_type": "code",
      "source": [
        "# TF-IDF Representation\n",
        "tfidf_vectorizer = TfidfVectorizer()\n",
        "tfidf_matrix = tfidf_vectorizer.fit_transform(df['lemmatized_text'])\n"
      ],
      "metadata": {
        "id": "xH3mLFpESfD6"
      },
      "execution_count": 20,
      "outputs": []
    },
    {
      "cell_type": "code",
      "source": [
        "# Convert TF-IDF to DataFrame\n",
        "tfidf_df = pd.DataFrame(tfidf_matrix.toarray(), columns=tfidf_vectorizer.get_feature_names_out())"
      ],
      "metadata": {
        "id": "GlJmHDO3Sac9"
      },
      "execution_count": 21,
      "outputs": []
    },
    {
      "cell_type": "code",
      "source": [
        "# Save Outputs\n",
        "df.to_csv('processed_text_data.csv', index=False)\n",
        "with open('label_encoder.pkl', 'wb') as le_file:\n",
        "    pickle.dump(label_encoder, le_file)\n",
        "with open('tfidf_vectorizer.pkl', 'wb') as tfidf_file:\n",
        "    pickle.dump(tfidf_vectorizer, tfidf_file)\n",
        "\n",
        "df.head(), tfidf_df.head()"
      ],
      "metadata": {
        "colab": {
          "base_uri": "https://localhost:8080/"
        },
        "id": "ZNf3O5XJSXl6",
        "outputId": "21bafbf1-889a-4025-9534-ba46211470b1"
      },
      "execution_count": 22,
      "outputs": [
        {
          "output_type": "execute_result",
          "data": {
            "text/plain": [
              "(                                              text     label  \\\n",
              " 0              I love Natural Language Processing!  positive   \n",
              " 1  Text preprocessing is an important step in NLP.   neutral   \n",
              " 2       Machine Learning helps improve NLP models.  positive   \n",
              " 3            Data cleaning enhances text analysis.   neutral   \n",
              " \n",
              "                                      cleaned_text  \\\n",
              " 0              i love natural language processing   \n",
              " 1  text preprocessing is an important step in nlp   \n",
              " 2       machine learning helps improve nlp models   \n",
              " 3            data cleaning enhances text analysis   \n",
              " \n",
              "                            text_no_stopwords  \\\n",
              " 0           love natural language processing   \n",
              " 1      text preprocessing important step nlp   \n",
              " 2  machine learning helps improve nlp models   \n",
              " 3       data cleaning enhances text analysis   \n",
              " \n",
              "                            lemmatized_text  encoded_label  \n",
              " 0         love natural language processing              1  \n",
              " 1    text preprocessing important step nlp              0  \n",
              " 2  machine learning help improve nlp model              1  \n",
              " 3     data cleaning enhances text analysis              0  ,\n",
              "    analysis  cleaning      data  enhances      help  important   improve  \\\n",
              " 0  0.000000  0.000000  0.000000  0.000000  0.000000   0.000000  0.000000   \n",
              " 1  0.000000  0.000000  0.000000  0.000000  0.000000   0.485461  0.000000   \n",
              " 2  0.000000  0.000000  0.000000  0.000000  0.421765   0.000000  0.421765   \n",
              " 3  0.465162  0.465162  0.465162  0.465162  0.000000   0.000000  0.000000   \n",
              " \n",
              "    language  learning  love   machine     model  natural       nlp  \\\n",
              " 0       0.5  0.000000   0.5  0.000000  0.000000      0.5  0.000000   \n",
              " 1       0.0  0.000000   0.0  0.000000  0.000000      0.0  0.382743   \n",
              " 2       0.0  0.421765   0.0  0.421765  0.421765      0.0  0.332524   \n",
              " 3       0.0  0.000000   0.0  0.000000  0.000000      0.0  0.000000   \n",
              " \n",
              "    preprocessing  processing      step      text  \n",
              " 0       0.000000         0.5  0.000000  0.000000  \n",
              " 1       0.485461         0.0  0.485461  0.382743  \n",
              " 2       0.000000         0.0  0.000000  0.000000  \n",
              " 3       0.000000         0.0  0.000000  0.366739  )"
            ]
          },
          "metadata": {},
          "execution_count": 22
        }
      ]
    }
  ]
}